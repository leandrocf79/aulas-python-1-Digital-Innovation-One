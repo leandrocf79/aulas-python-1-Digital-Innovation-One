{
 "cells": [
  {
   "cell_type": "code",
   "execution_count": 1,
   "id": "ce27c1b0",
   "metadata": {},
   "outputs": [
    {
     "data": {
      "text/plain": [
       "[1, 2, 3]"
      ]
     },
     "execution_count": 1,
     "metadata": {},
     "output_type": "execute_result"
    }
   ],
   "source": [
    "#criando lista animais\n",
    "animais=[1, 2, 3]\n",
    "animais"
   ]
  },
  {
   "cell_type": "code",
   "execution_count": 2,
   "id": "c49f18d2",
   "metadata": {},
   "outputs": [
    {
     "data": {
      "text/plain": [
       "['gorila', 'maça', 123456, 5, 5.3]"
      ]
     },
     "execution_count": 2,
     "metadata": {},
     "output_type": "execute_result"
    }
   ],
   "source": [
    "# lista str, char e float\n",
    "animais=['gorila', 'maça', 123456, 5, 5.3]\n",
    "animais"
   ]
  },
  {
   "cell_type": "code",
   "execution_count": 3,
   "id": "0cdc88b8",
   "metadata": {},
   "outputs": [
    {
     "data": {
      "text/plain": [
       "'gorila'"
      ]
     },
     "execution_count": 3,
     "metadata": {},
     "output_type": "execute_result"
    }
   ],
   "source": [
    "#imprimir o primeiro elemento da lista\n",
    "animais[0]"
   ]
  },
  {
   "cell_type": "code",
   "execution_count": 4,
   "id": "742acb90",
   "metadata": {},
   "outputs": [
    {
     "data": {
      "text/plain": [
       "5"
      ]
     },
     "execution_count": 4,
     "metadata": {},
     "output_type": "execute_result"
    }
   ],
   "source": [
    "#imiprimir o quarto elemento da lista\n",
    "animais[3]"
   ]
  },
  {
   "cell_type": "code",
   "execution_count": 5,
   "id": "0fa5ccec",
   "metadata": {},
   "outputs": [],
   "source": [
    "# substituicao do primeiro elemento da lista\n",
    "animais[0]= 'papagaio'"
   ]
  },
  {
   "cell_type": "code",
   "execution_count": 6,
   "id": "8ab32290",
   "metadata": {},
   "outputs": [
    {
     "data": {
      "text/plain": [
       "['papagaio', 'maça', 123456, 5, 5.3]"
      ]
     },
     "execution_count": 6,
     "metadata": {},
     "output_type": "execute_result"
    }
   ],
   "source": [
    "animais"
   ]
  },
  {
   "cell_type": "code",
   "execution_count": 8,
   "id": "cd127b9d",
   "metadata": {},
   "outputs": [],
   "source": [
    "# removendo maça da lista\n",
    "animais.remove('maça')"
   ]
  },
  {
   "cell_type": "code",
   "execution_count": 9,
   "id": "74d3af78",
   "metadata": {},
   "outputs": [
    {
     "data": {
      "text/plain": [
       "['papagaio', 123456, 5, 5.3]"
      ]
     },
     "execution_count": 9,
     "metadata": {},
     "output_type": "execute_result"
    }
   ],
   "source": [
    "animais"
   ]
  },
  {
   "cell_type": "code",
   "execution_count": 10,
   "id": "5b4ed5c0",
   "metadata": {},
   "outputs": [
    {
     "data": {
      "text/plain": [
       "4"
      ]
     },
     "execution_count": 10,
     "metadata": {},
     "output_type": "execute_result"
    }
   ],
   "source": [
    "# contar quantidade de itens na lista\n",
    "len(animais)"
   ]
  },
  {
   "cell_type": "code",
   "execution_count": 11,
   "id": "23125f31",
   "metadata": {},
   "outputs": [
    {
     "data": {
      "text/plain": [
       "False"
      ]
     },
     "execution_count": 11,
     "metadata": {},
     "output_type": "execute_result"
    }
   ],
   "source": [
    "# verificar item\n",
    "'gato' in animais"
   ]
  },
  {
   "cell_type": "code",
   "execution_count": 14,
   "id": "e217a1eb",
   "metadata": {},
   "outputs": [],
   "source": [
    "# nova lista\n",
    "lista=[550, 30, 97, 48, 5, 3]"
   ]
  },
  {
   "cell_type": "code",
   "execution_count": 15,
   "id": "17651f1d",
   "metadata": {},
   "outputs": [
    {
     "data": {
      "text/plain": [
       "550"
      ]
     },
     "execution_count": 15,
     "metadata": {},
     "output_type": "execute_result"
    }
   ],
   "source": [
    "# verificar o maior numero\n",
    "max(lista)"
   ]
  },
  {
   "cell_type": "code",
   "execution_count": 16,
   "id": "64e655c3",
   "metadata": {},
   "outputs": [
    {
     "data": {
      "text/plain": [
       "3"
      ]
     },
     "execution_count": 16,
     "metadata": {},
     "output_type": "execute_result"
    }
   ],
   "source": [
    "# verificar o menor numero\n",
    "min(lista)"
   ]
  },
  {
   "cell_type": "code",
   "execution_count": 24,
   "id": "b29ab6f2",
   "metadata": {},
   "outputs": [],
   "source": [
    "# adicionar char associados a lista animais\n",
    "animais.append([\"Leão\", \"Camarão\"])"
   ]
  },
  {
   "cell_type": "code",
   "execution_count": 25,
   "id": "f3819805",
   "metadata": {},
   "outputs": [
    {
     "data": {
      "text/plain": [
       "['papagaio',\n",
       " 123456,\n",
       " 5,\n",
       " 5.3,\n",
       " ['Leão', 'Camarão'],\n",
       " ['Leão', 'Camarão'],\n",
       " ['Leão', 'Camarão'],\n",
       " ['Leão', 'Camarão']]"
      ]
     },
     "execution_count": 25,
     "metadata": {},
     "output_type": "execute_result"
    }
   ],
   "source": [
    "animais"
   ]
  },
  {
   "cell_type": "code",
   "execution_count": 29,
   "id": "ae379b69",
   "metadata": {},
   "outputs": [],
   "source": [
    "# corrigindo erro meu com licao ja aprendida aqui, executado 3x este comando\n",
    "\n",
    "animais.remove([\"Leão\", \"Camarão\"])"
   ]
  },
  {
   "cell_type": "code",
   "execution_count": 30,
   "id": "468ffb72",
   "metadata": {},
   "outputs": [
    {
     "data": {
      "text/plain": [
       "['papagaio', 123456, 5, 5.3, ['Leão', 'Camarão']]"
      ]
     },
     "execution_count": 30,
     "metadata": {},
     "output_type": "execute_result"
    }
   ],
   "source": [
    "animais"
   ]
  },
  {
   "cell_type": "code",
   "execution_count": 46,
   "id": "e98159d4",
   "metadata": {},
   "outputs": [],
   "source": [
    "# inserindo simultaneamente mais de um elemento a lista \n",
    "animais.extend(['Javali', 7])"
   ]
  },
  {
   "cell_type": "code",
   "execution_count": 48,
   "id": "df12161f",
   "metadata": {},
   "outputs": [
    {
     "data": {
      "text/plain": [
       "['papagaio', 123456, 5, 5.3, ['Leão', 'Camarão'], 'Javali', 7]"
      ]
     },
     "execution_count": 48,
     "metadata": {},
     "output_type": "execute_result"
    }
   ],
   "source": [
    "animais\n"
   ]
  },
  {
   "cell_type": "code",
   "execution_count": 50,
   "id": "a76f9a17",
   "metadata": {},
   "outputs": [
    {
     "data": {
      "text/plain": [
       "1"
      ]
     },
     "execution_count": 50,
     "metadata": {},
     "output_type": "execute_result"
    }
   ],
   "source": [
    "# contar item, numero 5\n",
    "animais.count(5)"
   ]
  },
  {
   "cell_type": "code",
   "execution_count": 51,
   "id": "1482036e",
   "metadata": {},
   "outputs": [],
   "source": [
    "# organizar lista\n",
    "lista.sort()"
   ]
  },
  {
   "cell_type": "code",
   "execution_count": 52,
   "id": "688f865a",
   "metadata": {},
   "outputs": [
    {
     "data": {
      "text/plain": [
       "[3, 5, 30, 48, 97, 550]"
      ]
     },
     "execution_count": 52,
     "metadata": {},
     "output_type": "execute_result"
    }
   ],
   "source": [
    "lista"
   ]
  },
  {
   "cell_type": "code",
   "execution_count": 54,
   "id": "9dbc7103",
   "metadata": {},
   "outputs": [
    {
     "data": {
      "text/plain": [
       "'TUPLAS'"
      ]
     },
     "metadata": {},
     "output_type": "display_data"
    }
   ],
   "source": [
    "display('TUPLAS')"
   ]
  },
  {
   "cell_type": "code",
   "execution_count": 55,
   "id": "b8ffd993",
   "metadata": {},
   "outputs": [],
   "source": [
    "# para aprender:\n",
    "# TUPLAS sao imutaveis     e usam apenas parenteses\n",
    "\n",
    "tp=(\"Azul\", \"Céu\", \"cadeado\", 7.1, 8)"
   ]
  },
  {
   "cell_type": "code",
   "execution_count": 56,
   "id": "f701f196",
   "metadata": {},
   "outputs": [
    {
     "data": {
      "text/plain": [
       "'Azul'"
      ]
     },
     "execution_count": 56,
     "metadata": {},
     "output_type": "execute_result"
    }
   ],
   "source": [
    "tp[0]"
   ]
  },
  {
   "cell_type": "code",
   "execution_count": 58,
   "id": "fe2cb658",
   "metadata": {},
   "outputs": [
    {
     "data": {
      "text/plain": [
       "7.1"
      ]
     },
     "execution_count": 58,
     "metadata": {},
     "output_type": "execute_result"
    }
   ],
   "source": [
    "tp[3]"
   ]
  },
  {
   "cell_type": "code",
   "execution_count": 59,
   "id": "d789c5c9",
   "metadata": {},
   "outputs": [
    {
     "ename": "TypeError",
     "evalue": "'tuple' object does not support item assignment",
     "output_type": "error",
     "traceback": [
      "\u001b[1;31m---------------------------------------------------------------------------\u001b[0m",
      "\u001b[1;31mTypeError\u001b[0m                                 Traceback (most recent call last)",
      "\u001b[1;32m<ipython-input-59-d25a4c2f7a17>\u001b[0m in \u001b[0;36m<module>\u001b[1;34m\u001b[0m\n\u001b[0;32m      1\u001b[0m \u001b[1;31m# forçar alteracao para treino apenas\u001b[0m\u001b[1;33m\u001b[0m\u001b[1;33m\u001b[0m\u001b[1;33m\u001b[0m\u001b[0m\n\u001b[0;32m      2\u001b[0m \u001b[1;33m\u001b[0m\u001b[0m\n\u001b[1;32m----> 3\u001b[1;33m \u001b[0mtp\u001b[0m\u001b[1;33m[\u001b[0m\u001b[1;36m0\u001b[0m\u001b[1;33m]\u001b[0m\u001b[1;33m=\u001b[0m\u001b[1;34m\"marrom\"\u001b[0m\u001b[1;33m\u001b[0m\u001b[1;33m\u001b[0m\u001b[0m\n\u001b[0m",
      "\u001b[1;31mTypeError\u001b[0m: 'tuple' object does not support item assignment"
     ]
    }
   ],
   "source": [
    "# forçar alteracao para treino apenas\n",
    "\n",
    "tp[0]=\"marrom\""
   ]
  },
  {
   "cell_type": "code",
   "execution_count": 60,
   "id": "05139bcc",
   "metadata": {},
   "outputs": [
    {
     "data": {
      "text/plain": [
       "0"
      ]
     },
     "execution_count": 60,
     "metadata": {},
     "output_type": "execute_result"
    }
   ],
   "source": [
    "# contar item\n",
    "tp.count('azul')"
   ]
  },
  {
   "cell_type": "code",
   "execution_count": 61,
   "id": "18406fa9",
   "metadata": {},
   "outputs": [
    {
     "data": {
      "text/plain": [
       "1"
      ]
     },
     "execution_count": 61,
     "metadata": {},
     "output_type": "execute_result"
    }
   ],
   "source": [
    "tp.count(\"Azul\")"
   ]
  },
  {
   "cell_type": "code",
   "execution_count": 63,
   "id": "5708fb7a",
   "metadata": {},
   "outputs": [
    {
     "data": {
      "text/plain": [
       "('Azul', 'Céu', 'cadeado')"
      ]
     },
     "execution_count": 63,
     "metadata": {},
     "output_type": "execute_result"
    }
   ],
   "source": [
    "# exibir selecao\n",
    "tp[0:3]"
   ]
  },
  {
   "cell_type": "code",
   "execution_count": 66,
   "id": "e14b12ed",
   "metadata": {},
   "outputs": [
    {
     "name": "stdout",
     "output_type": "stream",
     "text": [
      "DICIONÁRIO\n"
     ]
    }
   ],
   "source": [
    "print('DICIONÁRIO')"
   ]
  },
  {
   "cell_type": "code",
   "execution_count": 67,
   "id": "e8becd60",
   "metadata": {},
   "outputs": [],
   "source": [
    "# inserir dicionario com {}\n",
    "#Dicionários trabalham com o conceito chave e valor\n",
    "\n",
    "dic={\"Maçã\":20, \"Banana\":10, \"Laranja\":15, \"Uva\":5} "
   ]
  },
  {
   "cell_type": "code",
   "execution_count": 68,
   "id": "a832f063",
   "metadata": {},
   "outputs": [
    {
     "data": {
      "text/plain": [
       "{'Maçã': 20, 'Banana': 10, 'Laranja': 15, 'Uva': 5}"
      ]
     },
     "execution_count": 68,
     "metadata": {},
     "output_type": "execute_result"
    }
   ],
   "source": [
    "dic"
   ]
  },
  {
   "cell_type": "code",
   "execution_count": 70,
   "id": "955da4b3",
   "metadata": {},
   "outputs": [
    {
     "data": {
      "text/plain": [
       "20"
      ]
     },
     "execution_count": 70,
     "metadata": {},
     "output_type": "execute_result"
    }
   ],
   "source": [
    "# acessar valor atravez da chave\n",
    "dic['Maçã']"
   ]
  },
  {
   "cell_type": "code",
   "execution_count": 72,
   "id": "dfc857e6",
   "metadata": {},
   "outputs": [],
   "source": [
    "# atualizar valor da maça\n",
    "\n",
    "dic['Maçã']=27"
   ]
  },
  {
   "cell_type": "code",
   "execution_count": 73,
   "id": "b7126d6d",
   "metadata": {},
   "outputs": [
    {
     "data": {
      "text/plain": [
       "{'Maçã': 27, 'Banana': 10, 'Laranja': 15, 'Uva': 5}"
      ]
     },
     "execution_count": 73,
     "metadata": {},
     "output_type": "execute_result"
    }
   ],
   "source": [
    "dic"
   ]
  },
  {
   "cell_type": "code",
   "execution_count": 75,
   "id": "3fdae5bb",
   "metadata": {},
   "outputs": [
    {
     "data": {
      "text/plain": [
       "dict_keys(['Maçã', 'Banana', 'Laranja', 'Uva'])"
      ]
     },
     "execution_count": 75,
     "metadata": {},
     "output_type": "execute_result"
    }
   ],
   "source": [
    "#Retornando apenas as chaves do dicionario\n",
    "dic.keys()"
   ]
  },
  {
   "cell_type": "code",
   "execution_count": 78,
   "id": "77458724",
   "metadata": {},
   "outputs": [
    {
     "data": {
      "text/plain": [
       "dict_values([27, 10, 15, 5])"
      ]
     },
     "execution_count": 78,
     "metadata": {},
     "output_type": "execute_result"
    }
   ],
   "source": [
    "#Retornando valores do dicionario\n",
    "dic.values()"
   ]
  },
  {
   "cell_type": "code",
   "execution_count": 80,
   "id": "6e51b316",
   "metadata": {},
   "outputs": [
    {
     "data": {
      "text/plain": [
       "5"
      ]
     },
     "execution_count": 80,
     "metadata": {},
     "output_type": "execute_result"
    }
   ],
   "source": [
    "# verificar se ja existe uma chave no dic, caso nao exista, inserir\n",
    "dic.setdefault(\"Limão\", 5)"
   ]
  },
  {
   "cell_type": "code",
   "execution_count": 81,
   "id": "04991717",
   "metadata": {},
   "outputs": [
    {
     "data": {
      "text/plain": [
       "{'Maçã': 27, 'Banana': 10, 'Laranja': 15, 'Uva': 5, 'Limão': 5}"
      ]
     },
     "execution_count": 81,
     "metadata": {},
     "output_type": "execute_result"
    }
   ],
   "source": [
    "dic"
   ]
  },
  {
   "cell_type": "code",
   "execution_count": null,
   "id": "fb6b8443",
   "metadata": {},
   "outputs": [],
   "source": []
  },
  {
   "cell_type": "code",
   "execution_count": null,
   "id": "43e30157",
   "metadata": {},
   "outputs": [],
   "source": []
  }
 ],
 "metadata": {
  "kernelspec": {
   "display_name": "Python 3",
   "language": "python",
   "name": "python3"
  },
  "language_info": {
   "codemirror_mode": {
    "name": "ipython",
    "version": 3
   },
   "file_extension": ".py",
   "mimetype": "text/x-python",
   "name": "python",
   "nbconvert_exporter": "python",
   "pygments_lexer": "ipython3",
   "version": "3.8.8"
  }
 },
 "nbformat": 4,
 "nbformat_minor": 5
}
